{
 "cells": [
  {
   "cell_type": "code",
   "execution_count": 1,
   "metadata": {},
   "outputs": [],
   "source": [
    "import os\n",
    "import random\n",
    "import shutil"
   ]
  },
  {
   "cell_type": "code",
   "execution_count": 12,
   "metadata": {},
   "outputs": [],
   "source": [
    "nbr = os.listdir(r'Train/Cov')\n",
    "for i in range(0,int(len(nbr)/5)):\n",
    "    liste = os.listdir(r'Train/cov')\n",
    "    random.shuffle(liste)\n",
    "    shutil.move(r'Train/Cov/{}'.format(liste[0]),r'Test/Cov')"
   ]
  },
  {
   "cell_type": "code",
   "execution_count": 14,
   "metadata": {},
   "outputs": [],
   "source": [
    "nbr = os.listdir(r'Train/noncovid')\n",
    "for i in range(0,int(len(nbr)/5)):\n",
    "    liste = os.listdir(r'Train/noncovid')\n",
    "    random.shuffle(liste)\n",
    "    shutil.move(r'Train/noncovid/{}'.format(liste[0]),r'Test/noncovid')"
   ]
  },
  {
   "cell_type": "code",
   "execution_count": null,
   "metadata": {},
   "outputs": [],
   "source": []
  }
 ],
 "metadata": {
  "kernelspec": {
   "display_name": "Python 3",
   "language": "python",
   "name": "python3"
  },
  "language_info": {
   "codemirror_mode": {
    "name": "ipython",
    "version": 3
   },
   "file_extension": ".py",
   "mimetype": "text/x-python",
   "name": "python",
   "nbconvert_exporter": "python",
   "pygments_lexer": "ipython3",
   "version": "3.7.7"
  }
 },
 "nbformat": 4,
 "nbformat_minor": 4
}
