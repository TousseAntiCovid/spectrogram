{
 "cells": [
  {
   "cell_type": "code",
   "execution_count": 1,
   "metadata": {},
   "outputs": [],
   "source": [
    "import os\n",
    "import shutil"
   ]
  },
  {
   "cell_type": "code",
   "execution_count": 2,
   "metadata": {},
   "outputs": [],
   "source": [
    "liste = os.listdir(r'Test/noncovid')\n",
    "for el in liste :\n",
    "    if el[0:7] == 'Healthy' :\n",
    "        shutil.move(r'Test/noncovid/{}'.format(el),r'Train/noncovid')"
   ]
  },
  {
   "cell_type": "code",
   "execution_count": 6,
   "metadata": {},
   "outputs": [],
   "source": [
    "liste = os.listdir(r'Train/noncovid')\n",
    "for el in liste :\n",
    "    if el[0:7] != 'Healthy' :\n",
    "        shutil.move(r'Train/noncovid/{}'.format(el),r'Temp/noncovid')"
   ]
  },
  {
   "cell_type": "code",
   "execution_count": 4,
   "metadata": {},
   "outputs": [],
   "source": [
    "liste = os.listdir(r'Train/Cov')\n",
    "for el in liste :\n",
    "    shutil.move(r'Train/Cov/{}'.format(el),r'temp/Cov')"
   ]
  },
  {
   "cell_type": "code",
   "execution_count": 5,
   "metadata": {},
   "outputs": [],
   "source": [
    "liste = os.listdir(r'Test/noncovid')\n",
    "for el in liste :\n",
    "    shutil.move(r'Test/noncovid/{}'.format(el),r'temp/noncovid')"
   ]
  },
  {
   "cell_type": "code",
   "execution_count": 7,
   "metadata": {},
   "outputs": [],
   "source": [
    "liste = os.listdir(r'temp/noncovid')\n",
    "for el in liste :\n",
    "    shutil.move(r'temp/noncovid/{}'.format(el),r'Train/noncovid')"
   ]
  },
  {
   "cell_type": "code",
   "execution_count": 9,
   "metadata": {},
   "outputs": [],
   "source": [
    "liste = os.listdir(r'temp/Cov')\n",
    "for el in liste :\n",
    "    if el[-11:-6] not in ['speed','ifted','tched'] :\n",
    "        shutil.move(r'temp/Cov/{}'.format(el),r'Train/Cov')"
   ]
  },
  {
   "cell_type": "code",
   "execution_count": 12,
   "metadata": {},
   "outputs": [],
   "source": [
    "liste = os.listdir(r'temp/Cov')\n",
    "liste2 = os.listdir(r'temp/noncovid')\n",
    "liste3 = os.listdir(r'Test/Cov')\n",
    "liste4 = os.listdir(r'Test/noncovid')\n",
    "for el in liste :\n",
    "    shutil.move(r'temp/Cov/{}'.format(el),r'Train/Cov')\n",
    "for el in liste2 :\n",
    "    shutil.move(r'temp/noncovid/{}'.format(el),r'Train/noncovid')\n",
    "for el in liste3 :\n",
    "    shutil.move(r'Test/Cov/{}'.format(el),r'Train/Cov')\n",
    "for el in liste4 :\n",
    "    shutil.move(r'Test/noncovid/{}'.format(el),r'Train/noncovid')"
   ]
  },
  {
   "cell_type": "code",
   "execution_count": null,
   "metadata": {},
   "outputs": [],
   "source": []
  }
 ],
 "metadata": {
  "kernelspec": {
   "display_name": "Python 3",
   "language": "python",
   "name": "python3"
  },
  "language_info": {
   "codemirror_mode": {
    "name": "ipython",
    "version": 3
   },
   "file_extension": ".py",
   "mimetype": "text/x-python",
   "name": "python",
   "nbconvert_exporter": "python",
   "pygments_lexer": "ipython3",
   "version": "3.7.7"
  }
 },
 "nbformat": 4,
 "nbformat_minor": 4
}
